{
  "nbformat": 4,
  "nbformat_minor": 0,
  "metadata": {
    "colab": {
      "provenance": [],
      "authorship_tag": "ABX9TyP49S+hPEygcNClVa+4vLw3",
      "include_colab_link": true
    },
    "kernelspec": {
      "name": "python3",
      "display_name": "Python 3"
    },
    "language_info": {
      "name": "python"
    }
  },
  "cells": [
    {
      "cell_type": "markdown",
      "metadata": {
        "id": "view-in-github",
        "colab_type": "text"
      },
      "source": [
        "<a href=\"https://colab.research.google.com/github/kyg1218/-03-Set_practice/blob/main/%5B03%5D%EC%A7%91%ED%95%A9.ipynb\" target=\"_parent\"><img src=\"https://colab.research.google.com/assets/colab-badge.svg\" alt=\"Open In Colab\"/></a>"
      ]
    },
    {
      "cell_type": "code",
      "execution_count": 1,
      "metadata": {
        "colab": {
          "base_uri": "https://localhost:8080/"
        },
        "id": "UOSloQnszDqR",
        "outputId": "241ac058-e8f6-4589-c7de-61af09bd12be"
      },
      "outputs": [
        {
          "output_type": "stream",
          "name": "stdout",
          "text": [
            "{1, 2, 3}\n",
            "{2, 3, 4}\n",
            "{2, 3}\n",
            "{1, 2, 3, 4}\n",
            "{1}\n"
          ]
        }
      ],
      "source": [
        "s1 = set([1,2,3])\n",
        "print(s1)\n",
        "s2 = set([2,3,4])\n",
        "print(s2)\n",
        "\n",
        "print(s1 &  s2) #교집합 연산\n",
        "print(s1 | s2) #합집합 연산\n",
        "print(s1 - s2) #차집합 연산"
      ]
    },
    {
      "cell_type": "code",
      "source": [
        "# 두 은행의 고객 집합 선언\n",
        "bankA_customers = set([\"김철수\", \"이영희\", \"박민수\", \"최지우\"])\n",
        "bankB_customers = set([\"이영희\", \"최지우\", \"정우성\", \"한지민\"])\n",
        "\n",
        "print(\"은행 A 고객:\", bankA_customers)\n",
        "print(\"은행 B 고객:\", bankB_customers)\n",
        "\n",
        "# 두 은행의 전체 고객 집합 (합집합)\n",
        "total_customers = bankA_customers | bankB_customers\n",
        "print(\"합병 후 전체 고객\", total_customers)\n",
        "\n",
        "# 두 은행 모두에 있는 공통 고객 (교집합)\n",
        "common_customers = bankA_customers & bankB_customers\n",
        "print(\"공통 고객\", common_customers)\n",
        "\n",
        "# A 은행에만 있는 고객 (차집합)\n",
        "only_A_customers = bankA_customers - bankB_customers\n",
        "print(\"A 은행에만 있는 고객\", only_A_customers)\n",
        "\n",
        "# B 은행에만 있는 고객 (차집합)\n",
        "only_B_customers = bankB_customers - bankA_customers\n",
        "print(\"B 은행에만 있는 고객\", only_B_customers)"
      ],
      "metadata": {
        "colab": {
          "base_uri": "https://localhost:8080/"
        },
        "id": "K6W3zc7C05vp",
        "outputId": "003165d8-5260-4038-b400-ff957e4585fe"
      },
      "execution_count": 2,
      "outputs": [
        {
          "output_type": "stream",
          "name": "stdout",
          "text": [
            "은행 A 고객: {'최지우', '김철수', '박민수', '이영희'}\n",
            "은행 B 고객: {'정우성', '한지민', '최지우', '이영희'}\n",
            "합병 후 전체 고객 {'이영희', '한지민', '정우성', '박민수', '김철수', '최지우'}\n",
            "공통 고객 {'이영희', '최지우'}\n",
            "A 은행에만 있는 고객 {'김철수', '박민수'}\n",
            "B 은행에만 있는 고객 {'정우성', '한지민'}\n"
          ]
        }
      ]
    },
    {
      "cell_type": "code",
      "source": [
        "import numpy as np\n",
        "\n",
        "# 12가지 파버카스텔 색연필 색상 집합 (RGB 값 예시)\n",
        "faber_castell"
      ],
      "metadata": {
        "id": "vvXqJ_fT3Q-8"
      },
      "execution_count": null,
      "outputs": []
    }
  ]
}